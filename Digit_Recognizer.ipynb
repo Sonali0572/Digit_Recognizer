{
 "cells": [
  {
   "cell_type": "code",
   "execution_count": 1,
   "metadata": {},
   "outputs": [],
   "source": [
    "import numpy as np\n",
    "import pandas as pd\n",
    "import matplotlib.pyplot as plt\n",
    "from sklearn.neighbors import KNeighborsClassifier\n",
    "from sklearn.metrics import confusion_matrix, accuracy_score\n",
    "import gzip\n",
    "import random"
   ]
  },
  {
   "cell_type": "code",
   "execution_count": 2,
   "metadata": {},
   "outputs": [],
   "source": [
    "def load_mnist(filename, type, n_datapoints):\n",
    "    # MNIST Images have 28*28 pixels dimension\n",
    "    image_size = 28\n",
    "    f = gzip.open(filename)\n",
    "    \n",
    "    if(type == 'image'):\n",
    "        f.read(16)    # Skip Non-Image information\n",
    "        buf = f.read(n_datapoints * image_size * image_size)\n",
    "        data = np.frombuffer(buf, dtype=np.uint8).astype(np.float32)\n",
    "        data = data.reshape(n_datapoints, image_size, image_size, 1)\n",
    "    elif(type == 'label'):\n",
    "        f.read(8) # Skip Unessential information\n",
    "        buf = f.read(n_datapoints)\n",
    "        data = np.frombuffer(buf, dtype=np.uint8).astype(np.int64)\n",
    "        data = data.reshape(n_datapoints, 1)\n",
    "    return data"
   ]
  },
  {
   "cell_type": "code",
   "execution_count": 3,
   "metadata": {},
   "outputs": [],
   "source": [
    "# Training Dataset\n",
    "train_size = 60000\n",
    "test_size = 10000\n",
    "\n",
    "X = load_mnist('Downloads/train-images-idx3-ubyte.gz', 'image', train_size)\n",
    "y = load_mnist('Downloads/train-labels-idx1-ubyte.gz', 'label', train_size)\n",
    "X_test = load_mnist('Downloads/t10k-images-idx3-ubyte.gz', 'image', test_size)\n",
    "y_test = load_mnist('Downloads/t10k-labels-idx1-ubyte.gz', 'label', test_size)"
   ]
  },
  {
   "cell_type": "code",
   "execution_count": 4,
   "metadata": {},
   "outputs": [
    {
     "name": "stdout",
     "output_type": "stream",
     "text": [
      "Index:  39372\n",
      "Training Set: \n",
      "Label: [6]\n"
     ]
    },
    {
     "data": {
      "image/png": "[encoded data removed]",
      "text/plain": [
       "<Figure size 432x288 with 1 Axes>"
      ]
     },
     "metadata": {},
     "output_type": "display_data"
    }
   ],
   "source": [
    "index = random.randint(0, train_size)\n",
    "print('Index: ', index)\n",
    "print('Training Set: ')\n",
    "print('Label:', y[index])\n",
    "img = np.asarray(X[index]).squeeze()\n",
    "plt.imshow(img)\n",
    "plt.show()"
   ]
  },
  {
   "cell_type": "code",
   "execution_count": 5,
   "metadata": {},
   "outputs": [
    {
     "name": "stdout",
     "output_type": "stream",
     "text": [
      "Index:  7577\n",
      "Training Set: \n",
      "Label: [5]\n"
     ]
    },
    {
     "data": {
      "image/png": "[encoded data removed]",
      "text/plain": [
       "<Figure size 432x288 with 1 Axes>"
      ]
     },
     "metadata": {},
     "output_type": "display_data"
    }
   ],
   "source": [
    "index = random.randint(0, test_size)\n",
    "print('Index: ', index)\n",
    "print('Training Set: ')\n",
    "print('Label:', y_test[index])\n",
    "img = np.asarray(X_test[index]).squeeze()\n",
    "plt.imshow(img)\n",
    "plt.show()\n",
    "\n",
    "t1 = X_test[index].reshape(1, 28*28)"
   ]
  },
  {
   "cell_type": "code",
   "execution_count": 6,
   "metadata": {},
   "outputs": [
    {
     "name": "stdout",
     "output_type": "stream",
     "text": [
      "(4500, 28, 28, 1) (1500, 28, 28, 1) (4500, 1) (1500, 1)\n"
     ]
    }
   ],
   "source": [
    "from sklearn.model_selection import train_test_split\n",
    "X_train, X_valid, y_train, y_valid = train_test_split(X[:(train_size//10)], y[:(train_size//10)], test_size=0.25, random_state=28)\n",
    "print(X_train.shape, X_valid.shape, y_train.shape, y_valid.shape)"
   ]
  },
  {
   "cell_type": "markdown",
   "metadata": {},
   "source": [
    "<h3>To determine the optimal value of K</h3>"
   ]
  },
  {
   "cell_type": "code",
   "execution_count": 7,
   "metadata": {},
   "outputs": [
    {
     "name": "stdout",
     "output_type": "stream",
     "text": [
      "Begin KNN with k= 1\n"
     ]
    },
    {
     "name": "stderr",
     "output_type": "stream",
     "text": [
      "C:\\Users\\Sonali\\Anaconda3\\lib\\site-packages\\ipykernel_launcher.py:6: DataConversionWarning: A column-vector y was passed when a 1d array was expected. Please change the shape of y to (n_samples, ), for example using ravel().\n",
      "  \n"
     ]
    },
    {
     "name": "stdout",
     "output_type": "stream",
     "text": [
      "Accuracy:  0.9506666666666667\n",
      "Confusion Matrix:\n",
      " [[143   0   0   0   0   0   0   0   0   0]\n",
      " [  0 156   0   1   0   0   0   0   0   0]\n",
      " [  0   3 127   0   0   0   0   2   2   0]\n",
      " [  2   1   1 151   0   3   1   0   1   1]\n",
      " [  0   4   0   0 157   0   2   0   0   6]\n",
      " [  1   0   0   0   2 128   1   0   0   2]\n",
      " [  1   0   0   0   0   0 157   0   1   0]\n",
      " [  0   4   0   1   1   2   0 166   0   3]\n",
      " [  0   1   3   4   0   2   0   1 110   0]\n",
      " [  4   0   1   1   5   0   0   3   0 131]]\n",
      "\n",
      "---------------\n",
      "\n",
      "Begin KNN with k= 2\n"
     ]
    },
    {
     "name": "stderr",
     "output_type": "stream",
     "text": [
      "C:\\Users\\Sonali\\Anaconda3\\lib\\site-packages\\ipykernel_launcher.py:6: DataConversionWarning: A column-vector y was passed when a 1d array was expected. Please change the shape of y to (n_samples, ), for example using ravel().\n",
      "  \n"
     ]
    },
    {
     "name": "stdout",
     "output_type": "stream",
     "text": [
      "Accuracy:  0.9266666666666666\n",
      "Confusion Matrix:\n",
      " [[143   0   0   0   0   0   0   0   0   0]\n",
      " [  0 156   0   1   0   0   0   0   0   0]\n",
      " [  0   6 126   0   0   0   1   1   0   0]\n",
      " [  2   2   2 150   0   2   1   1   1   0]\n",
      " [  0   8   0   0 156   0   2   0   0   3]\n",
      " [  4   1   0   1   2 125   1   0   0   0]\n",
      " [  1   0   0   0   1   2 155   0   0   0]\n",
      " [  1   6   1   1   7   1   0 159   0   1]\n",
      " [  0   3   6   5   0   7   0   0 100   0]\n",
      " [  5   2   0   2  10   1   0   5   0 120]]\n",
      "\n",
      "---------------\n",
      "\n",
      "Begin KNN with k= 3\n"
     ]
    },
    {
     "name": "stderr",
     "output_type": "stream",
     "text": [
      "C:\\Users\\Sonali\\Anaconda3\\lib\\site-packages\\ipykernel_launcher.py:6: DataConversionWarning: A column-vector y was passed when a 1d array was expected. Please change the shape of y to (n_samples, ), for example using ravel().\n",
      "  \n"
     ]
    },
    {
     "name": "stdout",
     "output_type": "stream",
     "text": [
      "Accuracy:  0.938\n",
      "Confusion Matrix:\n",
      " [[143   0   0   0   0   0   0   0   0   0]\n",
      " [  0 156   0   1   0   0   0   0   0   0]\n",
      " [  0   5 126   1   0   0   0   1   1   0]\n",
      " [  2   2   0 152   0   3   0   0   0   2]\n",
      " [  0   7   0   0 155   0   1   0   0   6]\n",
      " [  4   2   0   2   2 119   1   0   2   2]\n",
      " [  2   0   0   0   1   1 155   0   0   0]\n",
      " [  1   4   0   0   5   0   0 163   0   4]\n",
      " [  0   3   4   7   0   1   0   0 106   0]\n",
      " [  4   1   0   2   1   0   1   4   0 132]]\n",
      "\n",
      "---------------\n",
      "\n",
      "Begin KNN with k= 4\n"
     ]
    },
    {
     "name": "stderr",
     "output_type": "stream",
     "text": [
      "C:\\Users\\Sonali\\Anaconda3\\lib\\site-packages\\ipykernel_launcher.py:6: DataConversionWarning: A column-vector y was passed when a 1d array was expected. Please change the shape of y to (n_samples, ), for example using ravel().\n",
      "  \n"
     ]
    },
    {
     "name": "stdout",
     "output_type": "stream",
     "text": [
      "Accuracy:  0.9386666666666666\n",
      "Confusion Matrix:\n",
      " [[143   0   0   0   0   0   0   0   0   0]\n",
      " [  0 156   0   1   0   0   0   0   0   0]\n",
      " [  0   5 126   1   0   0   1   1   0   0]\n",
      " [  2   2   0 154   0   1   0   0   0   2]\n",
      " [  0   6   0   0 158   0   1   0   0   4]\n",
      " [  3   1   0   5   1 117   1   1   2   3]\n",
      " [  2   0   0   0   0   1 156   0   0   0]\n",
      " [  1   4   0   0   3   1   0 165   0   3]\n",
      " [  0   3   4   5   0   3   0   0 106   0]\n",
      " [  4   1   0   2   4   0   1   6   0 127]]\n",
      "\n",
      "---------------\n",
      "\n",
      "Begin KNN with k= 5\n"
     ]
    },
    {
     "name": "stderr",
     "output_type": "stream",
     "text": [
      "C:\\Users\\Sonali\\Anaconda3\\lib\\site-packages\\ipykernel_launcher.py:6: DataConversionWarning: A column-vector y was passed when a 1d array was expected. Please change the shape of y to (n_samples, ), for example using ravel().\n",
      "  \n"
     ]
    },
    {
     "name": "stdout",
     "output_type": "stream",
     "text": [
      "Accuracy:  0.9393333333333334\n",
      "Confusion Matrix:\n",
      " [[141   0   0   0   0   1   1   0   0   0]\n",
      " [  0 157   0   0   0   0   0   0   0   0]\n",
      " [  0   5 126   0   0   0   0   1   2   0]\n",
      " [  1   3   0 154   0   1   0   0   0   2]\n",
      " [  0   6   0   0 154   0   1   0   0   8]\n",
      " [  3   2   0   5   1 117   2   0   1   3]\n",
      " [  2   0   0   0   0   1 156   0   0   0]\n",
      " [  1   5   0   0   2   1   0 165   0   3]\n",
      " [  0   3   3   5   0   3   0   0 107   0]\n",
      " [  4   2   0   1   1   0   1   4   0 132]]\n",
      "\n",
      "---------------\n",
      "\n",
      "Begin KNN with k= 6\n"
     ]
    },
    {
     "name": "stderr",
     "output_type": "stream",
     "text": [
      "C:\\Users\\Sonali\\Anaconda3\\lib\\site-packages\\ipykernel_launcher.py:6: DataConversionWarning: A column-vector y was passed when a 1d array was expected. Please change the shape of y to (n_samples, ), for example using ravel().\n",
      "  \n"
     ]
    },
    {
     "name": "stdout",
     "output_type": "stream",
     "text": [
      "Accuracy:  0.94\n",
      "Confusion Matrix:\n",
      " [[141   0   0   0   0   1   1   0   0   0]\n",
      " [  0 157   0   0   0   0   0   0   0   0]\n",
      " [  1   6 123   1   0   0   0   1   2   0]\n",
      " [  1   3   0 155   0   0   0   0   0   2]\n",
      " [  0   6   0   0 155   0   1   0   0   7]\n",
      " [  3   1   0   5   1 117   2   1   1   3]\n",
      " [  1   1   0   0   0   1 156   0   0   0]\n",
      " [  0   5   0   0   2   1   0 167   0   2]\n",
      " [  0   3   3   6   0   1   0   0 108   0]\n",
      " [  4   1   0   2   1   0   1   5   0 131]]\n",
      "\n",
      "---------------\n",
      "\n",
      "Begin KNN with k= 7\n"
     ]
    },
    {
     "name": "stderr",
     "output_type": "stream",
     "text": [
      "C:\\Users\\Sonali\\Anaconda3\\lib\\site-packages\\ipykernel_launcher.py:6: DataConversionWarning: A column-vector y was passed when a 1d array was expected. Please change the shape of y to (n_samples, ), for example using ravel().\n",
      "  \n"
     ]
    },
    {
     "name": "stdout",
     "output_type": "stream",
     "text": [
      "Accuracy:  0.9366666666666666\n",
      "Confusion Matrix:\n",
      " [[140   0   0   0   0   1   2   0   0   0]\n",
      " [  0 156   0   0   0   0   0   0   0   1]\n",
      " [  1   5 124   0   0   0   0   2   2   0]\n",
      " [  2   4   0 153   0   0   0   0   0   2]\n",
      " [  0   6   0   0 150   0   2   0   0  11]\n",
      " [  3   2   0   4   1 118   2   0   1   3]\n",
      " [  2   1   0   0   0   1 155   0   0   0]\n",
      " [  0   5   0   0   2   1   0 165   0   4]\n",
      " [  0   3   1   5   0   2   0   0 110   0]\n",
      " [  4   1   0   2   0   0   1   3   0 134]]\n",
      "\n",
      "---------------\n",
      "\n",
      "Begin KNN with k= 8\n"
     ]
    },
    {
     "name": "stderr",
     "output_type": "stream",
     "text": [
      "C:\\Users\\Sonali\\Anaconda3\\lib\\site-packages\\ipykernel_launcher.py:6: DataConversionWarning: A column-vector y was passed when a 1d array was expected. Please change the shape of y to (n_samples, ), for example using ravel().\n",
      "  \n"
     ]
    },
    {
     "name": "stdout",
     "output_type": "stream",
     "text": [
      "Accuracy:  0.936\n",
      "Confusion Matrix:\n",
      " [[141   0   0   0   0   1   1   0   0   0]\n",
      " [  0 156   0   0   0   0   0   0   0   1]\n",
      " [  1   5 125   0   0   0   0   1   2   0]\n",
      " [  1   4   0 154   0   0   0   0   0   2]\n",
      " [  0   6   0   0 154   0   2   0   0   7]\n",
      " [  3   2   0   5   1 118   2   0   0   3]\n",
      " [  2   1   0   0   0   1 155   0   0   0]\n",
      " [  0   6   0   0   1   1   0 165   0   4]\n",
      " [  0   3   2   7   0   3   0   0 106   0]\n",
      " [  3   1   0   2   2   1   1   5   0 130]]\n",
      "\n",
      "---------------\n",
      "\n"
     ]
    }
   ],
   "source": [
    "score = []\n",
    "\n",
    "for k in range(1, 9):\n",
    "    print('Begin KNN with k=',k)\n",
    "    classifier = KNeighborsClassifier(n_neighbors=k)\n",
    "    classifier = classifier.fit(X_train.reshape(X_train.shape[0], 28*28), y_train)\n",
    "    pred = classifier.predict(X_valid.reshape(X_valid.shape[0], 28*28))\n",
    "    accuracy = accuracy_score(y_valid, pred)\n",
    "    score.append(accuracy)\n",
    "    print(\"Accuracy: \",accuracy)\n",
    "    print(\"Confusion Matrix:\\n\", confusion_matrix(y_valid, pred))\n",
    "    print(\"\\n---------------\\n\")"
   ]
  },
  {
   "cell_type": "markdown",
   "metadata": {},
   "source": [
    "Plot the graph with accuracy for all 8 values of K in order to visualize and select the appropriate K value"
   ]
  },
  {
   "cell_type": "code",
   "execution_count": 8,
   "metadata": {},
   "outputs": [
    {
     "data": {
      "image/png": "[encoded data removed]",
      "text/plain": [
       "<Figure size 432x288 with 1 Axes>"
      ]
     },
     "metadata": {},
     "output_type": "display_data"
    }
   ],
   "source": [
    "plt.plot(range(1,9), score)\n",
    "plt.title('Determining the Optimal Number of Neighbors')\n",
    "plt.xlabel('K - Number of Neighbors')\n",
    "plt.ylabel('Accuracy')\n",
    "plt.show()"
   ]
  },
  {
   "cell_type": "markdown",
   "metadata": {},
   "source": [
    "As we can see that the highest accuracy is achieved at K=1, but it is neglected as probability is based on a single sample and thus, might be sensitive to mislabelling of data, nose distortion, etc.\n",
    "Therefore, we can see, <b>the most optimal value is K=6</b>"
   ]
  },
  {
   "cell_type": "code",
   "execution_count": 9,
   "metadata": {},
   "outputs": [
    {
     "name": "stdout",
     "output_type": "stream",
     "text": [
      "Training the Model\n"
     ]
    },
    {
     "name": "stderr",
     "output_type": "stream",
     "text": [
      "C:\\Users\\Sonali\\Anaconda3\\lib\\site-packages\\ipykernel_launcher.py:3: DataConversionWarning: A column-vector y was passed when a 1d array was expected. Please change the shape of y to (n_samples, ), for example using ravel().\n",
      "  This is separate from the ipykernel package so we can avoid doing imports until\n"
     ]
    },
    {
     "name": "stdout",
     "output_type": "stream",
     "text": [
      "Wall time: 34.1 s\n"
     ]
    }
   ],
   "source": [
    "%%time\n",
    "print('Training the Model')\n",
    "classifier = KNeighborsClassifier(n_neighbors=6)\n",
    "classifier = classifier.fit(X.reshape(X.shape[0], 28*28), y)"
   ]
  },
  {
   "cell_type": "code",
   "execution_count": 10,
   "metadata": {},
   "outputs": [
    {
     "name": "stdout",
     "output_type": "stream",
     "text": [
      "Wall time: 17min 47s\n"
     ]
    }
   ],
   "source": [
    "%%time\n",
    "y_pred = classifier.predict(X_test.reshape(X_test.shape[0], 28*28))"
   ]
  },
  {
   "cell_type": "code",
   "execution_count": 11,
   "metadata": {},
   "outputs": [
    {
     "name": "stdout",
     "output_type": "stream",
     "text": [
      "[[ 975    1    1    0    0    1    1    1    0    0]\n",
      " [   0 1132    2    0    0    0    1    0    0    0]\n",
      " [  12   11  985    2    1    0    2   15    4    0]\n",
      " [   0    3    3  978    1   10    1    8    3    3]\n",
      " [   2    7    0    0  953    0    4    1    1   14]\n",
      " [   6    0    0   14    2  862    3    1    1    3]\n",
      " [   6    4    0    0    3    2  943    0    0    0]\n",
      " [   0   26    4    0    2    0    0  987    0    9]\n",
      " [   7    4    5   16    8   12    5    6  906    5]\n",
      " [   6    7    3    7   12    3    1   12    2  956]]\n",
      "0.9677\n"
     ]
    }
   ],
   "source": [
    "print(confusion_matrix(y_test, y_pred))\n",
    "print(accuracy_score(y_test, y_pred))"
   ]
  },
  {
   "cell_type": "code",
   "execution_count": 12,
   "metadata": {},
   "outputs": [
    {
     "name": "stdout",
     "output_type": "stream",
     "text": [
      "              precision    recall  f1-score   support\n",
      "\n",
      "           0       0.99      0.96      0.98      1014\n",
      "           1       1.00      0.95      0.97      1195\n",
      "           2       0.95      0.98      0.97      1003\n",
      "           3       0.97      0.96      0.96      1017\n",
      "           4       0.97      0.97      0.97       982\n",
      "           5       0.97      0.97      0.97       890\n",
      "           6       0.98      0.98      0.98       961\n",
      "           7       0.96      0.96      0.96      1031\n",
      "           8       0.93      0.99      0.96       917\n",
      "           9       0.95      0.97      0.96       990\n",
      "\n",
      "    accuracy                           0.97     10000\n",
      "   macro avg       0.97      0.97      0.97     10000\n",
      "weighted avg       0.97      0.97      0.97     10000\n",
      "\n"
     ]
    }
   ],
   "source": [
    "from sklearn.metrics import classification_report\n",
    "\n",
    "print(classification_report(y_pred, y_test))"
   ]
  },
  {
   "cell_type": "markdown",
   "metadata": {},
   "source": [
    "Thus, we have achieved an accuracy of <b>96.77%</b> with <b>K=5</b>."
   ]
  },
  {
   "cell_type": "code",
   "execution_count": 13,
   "metadata": {},
   "outputs": [
    {
     "data": {
      "text/plain": [
       "['knn_model.gzip']"
      ]
     },
     "execution_count": 13,
     "metadata": {},
     "output_type": "execute_result"
    }
   ],
   "source": [
    "import joblib\n",
    "\n",
    "joblib.dump(classifier, 'knn_model.gzip', compress=('gzip',3))"
   ]
  }
 ],
 "metadata": {
  "kernelspec": {
   "display_name": "Python 3",
   "language": "python",
   "name": "python3"
  },
  "language_info": {
   "codemirror_mode": {
    "name": "ipython",
    "version": 3
   },
   "file_extension": ".py",
   "mimetype": "text/x-python",
   "name": "python",
   "nbconvert_exporter": "python",
   "pygments_lexer": "ipython3",
   "version": "3.6.5"
  }
 },
 "nbformat": 4,
 "nbformat_minor": 2
}
